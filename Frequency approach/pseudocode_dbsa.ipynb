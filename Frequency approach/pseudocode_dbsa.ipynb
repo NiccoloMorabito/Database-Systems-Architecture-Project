{
 "cells": [
  {
   "cell_type": "markdown",
   "metadata": {},
   "source": [
    "PSEUDOCODICE WRITTEN BEFORE IMPLEMENTING MY SOLUTION IN POSTGRES CODE. ACTUALLY, SOME CHANGES AND SOME FIXES ARE DONE IN THE POSTGRES CODE WITHOUT UPDATING THIS FILE. THEREFORE, IT IS LIKELY THAT THIS ALGORITHM IS NOT ACCURATE OR COMPLETELY RIGHT."
   ]
  },
  {
   "cell_type": "code",
   "execution_count": 93,
   "metadata": {},
   "outputs": [],
   "source": [
    "import matplotlib.pyplot as plt\n",
    "\n",
    "NBINS = 6"
   ]
  },
  {
   "cell_type": "code",
   "execution_count": 94,
   "metadata": {},
   "outputs": [
    {
     "data": {
      "text/plain": [
       "5"
      ]
     },
     "execution_count": 94,
     "metadata": {},
     "output_type": "execute_result"
    }
   ],
   "source": [
    "range_list1 = [(4, 10), (5, 8), (3,5), (20, 33), (15, 17), (15, 18)]\n",
    "range_list2 = [(7, 11), (12, 14), (15, 20)]\n",
    "\n",
    "#TODO check if it is correct\n",
    "def compute_overlaps(range_list1, range_list2):\n",
    "    overlaps_counter = 0\n",
    "    for lb1, up1 in range_list1:\n",
    "        for lb2, up2 in range_list2:\n",
    "            if lb1 > up2 or up1 < lb2:\n",
    "                continue\n",
    "            overlaps_counter += 1 \n",
    "    return overlaps_counter\n",
    "\n",
    "compute_overlaps(range_list1, range_list2)"
   ]
  },
  {
   "cell_type": "code",
   "execution_count": 95,
   "metadata": {},
   "outputs": [
    {
     "name": "stdout",
     "output_type": "stream",
     "text": [
      "5.0\n",
      "2.1666666666666665\n"
     ]
    }
   ],
   "source": [
    "def get_variables_for(range_list):\n",
    "    lower_bounds = [r[0] for r in range_list]\n",
    "    upper_bounds = [r[1] for r in range_list]\n",
    "\n",
    "    start_hg = min(lower_bounds)\n",
    "    end_hg = max(upper_bounds)\n",
    "    bin_width = (end_hg - start_hg) / NBINS\n",
    "    print(bin_width)\n",
    "\n",
    "    bin_starts = [start_hg + bin_width*nbin for nbin in range(NBINS)]\n",
    "\n",
    "    return lower_bounds, upper_bounds, bin_width, bin_starts\n",
    "\n",
    "lower_bounds1, upper_bounds1, bin_width1, bin_starts1 = get_variables_for(range_list1)\n",
    "lower_bounds2, upper_bounds2, bin_width2, bin_starts2 = get_variables_for(range_list2)"
   ]
  },
  {
   "cell_type": "code",
   "execution_count": 96,
   "metadata": {},
   "outputs": [
    {
     "data": {
      "image/png": "[encoded data removed]",
      "text/plain": [
       "<Figure size 432x288 with 1 Axes>"
      ]
     },
     "metadata": {
      "needs_background": "light"
     },
     "output_type": "display_data"
    }
   ],
   "source": [
    "def plot_ranges_and_bins(lower_bounds, upper_bounds, bin_starts, color):\n",
    "    for lower, upper, y in zip(lower_bounds, upper_bounds, range(len(upper_bounds))):\n",
    "        plt.plot((lower, upper), (y, y), color=color)\n",
    "\n",
    "    for bin_start in bin_starts:\n",
    "        plt.axvline(x=bin_start)\n",
    "\n",
    "plot_ranges_and_bins(lower_bounds1, upper_bounds1, bin_starts1, 'orange')"
   ]
  },
  {
   "cell_type": "code",
   "execution_count": 97,
   "metadata": {},
   "outputs": [
    {
     "data": {
      "image/png": "[encoded data removed]",
      "text/plain": [
       "<Figure size 432x288 with 1 Axes>"
      ]
     },
     "metadata": {
      "needs_background": "light"
     },
     "output_type": "display_data"
    }
   ],
   "source": [
    "plot_ranges_and_bins(lower_bounds2, upper_bounds2, bin_starts2, 'green')"
   ]
  },
  {
   "cell_type": "code",
   "execution_count": 98,
   "metadata": {},
   "outputs": [
    {
     "name": "stdout",
     "output_type": "stream",
     "text": [
      "[3, 1, 2, 1, 1, 1]\n",
      "[1, 1, 1, 2, 1, 1]\n"
     ]
    }
   ],
   "source": [
    "def compute_frequency(bin_start, lower_bounds, upper_bounds, bin_width):\n",
    "    bin_end = bin_start + bin_width\n",
    "    frequency = 0\n",
    "    for lower, upper in zip(lower_bounds, upper_bounds):\n",
    "        if lower >= bin_end or upper <= bin_start:\n",
    "            continue\n",
    "        frequency += 1\n",
    "    return frequency\n",
    "\n",
    "histogram1 = [compute_frequency(bin_start, lower_bounds1, upper_bounds1, bin_width1) for bin_start in bin_starts1]\n",
    "histogram2 = [compute_frequency(bin_start, lower_bounds2, upper_bounds2, bin_width2) for bin_start in bin_starts2]\n",
    "\n",
    "#TODO need to move also hg_start and bin_width\n",
    "start1 = bin_starts1[0]\n",
    "start2 = bin_starts2[0]\n",
    "bin_width1\n",
    "bin_width2\n",
    "\n",
    "print(histogram1)\n",
    "print(histogram2)"
   ]
  },
  {
   "cell_type": "code",
   "execution_count": 99,
   "metadata": {},
   "outputs": [
    {
     "name": "stdout",
     "output_type": "stream",
     "text": [
      "6.0\n",
      "9\n",
      "1.5\n",
      "0.6666666666666666\n"
     ]
    }
   ],
   "source": [
    "#ESTIMATE SELECTIVITY FOR STRICTLY LEFT\n",
    "histogram = histogram1\n",
    "hg_start = start1\n",
    "bin_width = bin_width1\n",
    "\n",
    "constant = (50,60)\n",
    "\n",
    "#find index of closer bin\n",
    "index=0\n",
    "cont = 0\n",
    "while hg_start + bin_width*index < constant[0] and index<NBINS:\n",
    "    cont += histogram[index]\n",
    "    index += 1\n",
    "\n",
    "total_number = sum(histogram)\n",
    "avg_frequency = total_number / NBINS\n",
    "\n",
    "'''wrong formula below'''\n",
    "cont /= avg_frequency # normalizing result (#TODO ADD INTERPOLATION?)\n",
    "selec = cont/total_number\n",
    "\n",
    "\n",
    "print(cont)\n",
    "print(total_number)\n",
    "print(avg_frequency)\n",
    "print(selec)\n",
    "\n",
    "#TODO for strictly right, analogous pseudocode\n",
    "#TODO for overlap, just use selectivity of these two operators"
   ]
  },
  {
   "cell_type": "code",
   "execution_count": 100,
   "metadata": {},
   "outputs": [
    {
     "name": "stdout",
     "output_type": "stream",
     "text": [
      "20\n",
      "13.333333333333334\n",
      "1.4814814814814816\n"
     ]
    }
   ],
   "source": [
    "# attempts to see if the algorithm always works smoothly\n",
    "NBINS=6\n",
    "#histogram1 = [2,3,0,7,4,1]\n",
    "histogram1 = [3,1,2,1,1,1]\n",
    "start1 = 7\n",
    "bin_width1 = 5\n",
    "# end = 5 + 10*60 = 65\n",
    "\n",
    "#histogram2 = [0,2,7,1,1,2]\n",
    "histogram2 = [1,1,1,2,1,1]\n",
    "start2 = 5\n",
    "bin_width2 = 5\n",
    "\n",
    "#TODO HOW TO COMPARE THE TWO HISTOGRAMS FOR JOIN CARDINALITY ESTIMATION???\n",
    "cont = 0\n",
    "i1 = 0\n",
    "i2 = 0\n",
    "\n",
    "total_number1 = sum(histogram1)\n",
    "avg_frequency1 = total_number1 / NBINS\n",
    "total_number2 = sum(histogram2)\n",
    "avg_frequency2 = total_number2 / NBINS\n",
    "\n",
    "while(i1<NBINS and i2<NBINS):\n",
    "    #print(f\"i1: {i1}\\ti2: {i2}\")\n",
    "    # second histogram\n",
    "    end2 = start2 + bin_width2\n",
    "    if end2 <= start1:\n",
    "        start2 = end2\n",
    "        i2 += 1\n",
    "        continue\n",
    "\n",
    "    # first histogram\n",
    "    end1 = start1 + bin_width1\n",
    "    if end1 <= start2:\n",
    "        start1 = end1\n",
    "        i1 += 1\n",
    "        continue\n",
    "\n",
    "    #print(f\"start1: {start1}\\tend1: {end1}\\tstart2: {start2}\\tend2: {end2}\\tcont={cont}->\", end=\"\")\n",
    "\n",
    "    cont += histogram1[i1] * histogram2[i2]\n",
    "\n",
    "    if end1 < end2:\n",
    "        # increment in the first histogram\n",
    "        start1 = end1\n",
    "        i1 += 1\n",
    "    elif end1 == end2:\n",
    "        # increment in both the histograms\n",
    "        start1 = end1\n",
    "        i1 += 1\n",
    "        start2 = end2\n",
    "        i2 += 1\n",
    "    else:\n",
    "        # increment in the second histogram\n",
    "        start2 = end2\n",
    "        i2 += 1\n",
    "\n",
    "print(cont)\n",
    "'''wrong formula below'''\n",
    "cont /= avg_frequency1/avg_frequency2 # normalizing result (#TODO ADD INTERPOLATION?)\n",
    "# The number of rows that the join is likely to emit is calculated as the cardinality\n",
    "# of the Cartesian product of the two inputs multiplied by the selectivity \n",
    "selec = cont/(total_number1*total_number2) #TODO check if this formula is correct\n",
    "print(cont)\n",
    "print(selec)"
   ]
  }
 ],
 "metadata": {
  "interpreter": {
   "hash": "aee8b7b246df8f9039afb4144a1f6fd8d2ca17a180786b69acc140d282b71a49"
  },
  "kernelspec": {
   "display_name": "Python 3.9.7 64-bit",
   "language": "python",
   "name": "python3"
  },
  "language_info": {
   "codemirror_mode": {
    "name": "ipython",
    "version": 3
   },
   "file_extension": ".py",
   "mimetype": "text/x-python",
   "name": "python",
   "nbconvert_exporter": "python",
   "pygments_lexer": "ipython3",
   "version": "3.9.9"
  },
  "orig_nbformat": 4
 },
 "nbformat": 4,
 "nbformat_minor": 2
}
